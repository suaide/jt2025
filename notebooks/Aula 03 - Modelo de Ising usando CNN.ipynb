{
 "cells": [
  {
   "cell_type": "markdown",
   "id": "22891f7f",
   "metadata": {},
   "source": [
    "\n",
    "# CNN em Física: Classificação de Fases no Modelo de Ising 2D (Keras)\n",
    "\n",
    "## Alexandre Suaide\n",
    "\n",
    "Este notebook usa uma **Rede Neural Convolucional (CNN)** para distinguir **duas fases** do modelo de **Ising 2D** a partir de imagens de spins (matrizes 16×16 com valores ±1).\n",
    "- **Fase ferromagnética (baixa T)** vs **fase paramagnética (alta T)**.\n",
    "- Usamos o dataset **Ising Light** do **MDS-2** (`mdsdata`). Se não estiver disponível, o notebook **gera dados sintéticos** semelhantes para fins didáticos.\n"
   ]
  },
  {
   "cell_type": "code",
   "execution_count": null,
   "id": "77476a67",
   "metadata": {},
   "outputs": [],
   "source": [
    "\n",
    "# Se estiver no Google Colab, descomente a linha abaixo para instalar dependências:\n",
    "# !pip install mdsdata tensorflow scikit-learn seaborn joblib --quiet\n"
   ]
  },
  {
   "cell_type": "code",
   "execution_count": null,
   "id": "5015fa65",
   "metadata": {},
   "outputs": [],
   "source": [
    "# importa os módulos necessários\n",
    "# dependendo da versão do TensoFlow, aparece um monte de warnings\n",
    "\n",
    "import os, sys, math, random\n",
    "import numpy as np\n",
    "import pandas as pd\n",
    "import matplotlib.pyplot as plt\n",
    "import seaborn as sns\n",
    "\n",
    "from sklearn.model_selection import train_test_split\n",
    "from sklearn.metrics import confusion_matrix, classification_report\n",
    "\n",
    "import tensorflow as tf\n",
    "from tensorflow import keras\n",
    "from tensorflow.keras import layers\n",
    "\n",
    "import joblib\n",
    "\n",
    "# Reprodutibilidade do gerador de números aleatórios\n",
    "\n",
    "RANDOM_SEED = 42\n",
    "np.random.seed(RANDOM_SEED)\n",
    "random.seed(RANDOM_SEED)\n",
    "tf.random.set_seed(RANDOM_SEED)\n"
   ]
  },
  {
   "cell_type": "code",
   "execution_count": null,
   "id": "9b69d7dd",
   "metadata": {},
   "outputs": [],
   "source": [
    "# Carregamento do dataset Ising Light (MDS-2) \n",
    "\n",
    "def load_ising_mds2_or_synthetic(n_samples_synth=5000, L=16):\n",
    "    from mdsdata import load_Ising_light\n",
    "    X, y, temp = load_Ising_light()  # X: (N,16,16) com spins ±1 ; y: 0 (ferro), 1 (para)\n",
    "    print(\"Dataset MDS-2 Ising Light carregado:\", X.shape, y.shape)\n",
    "    return X.astype(np.float32), y.astype(np.int64)\n",
    "    \n",
    "\n",
    "X, y = load_ising_mds2_or_synthetic()\n",
    "labels_map = {0: \"Ferromagnético (baixa T)\", 1: \"Paramagnético (alta T)\"}"
   ]
  },
  {
   "cell_type": "code",
   "execution_count": null,
   "id": "b67dd0c5",
   "metadata": {},
   "outputs": [],
   "source": [
    "# Faz algumas figuras aleatórias para visualização\n",
    "\n",
    "fig, axes = plt.subplots(4, 5, figsize=(12, 10))\n",
    "for i, ax in enumerate(axes.flat):\n",
    "    idx = np.random.randint(0, len(X))\n",
    "    ax.imshow(X[idx], cmap=\"coolwarm\", interpolation=\"nearest\")\n",
    "    ax.set_title(labels_map[int(y[idx])], fontsize=10)\n",
    "    ax.axis(\"off\")\n",
    "plt.suptitle(\"Configurações de spins do Ising 2D\", fontsize=14)\n",
    "plt.show()\n"
   ]
  },
  {
   "cell_type": "code",
   "execution_count": null,
   "id": "f1359633",
   "metadata": {},
   "outputs": [],
   "source": [
    "# Preparação dos dados para CNN\n",
    "\n",
    "# Adicionar canal (necessário para Conv2D) -> (N, 16, 16, 1)\n",
    "X = X[..., None].astype(np.float32)\n",
    "\n",
    "# Normalizar: spins (-1,+1) -> (0,1) para estabilidade numérica\n",
    "X = (X + 1.0) / 2.0\n",
    "\n",
    "# divisão do dataset em treino, teste e validação. \n",
    "# as variáveis abaixo determinam as frações\n",
    "\n",
    "train_ratio = 0.50\n",
    "test_ratio = 0.25\n",
    "validation_ratio = 0.25\n",
    "\n",
    "X_train, X_test, y_train, y_test = train_test_split(X, y, test_size=1 - train_ratio, stratify = y, random_state = RANDOM_SEED)\n",
    "X_val, X_test, y_val, y_test = train_test_split(X_test, y_test, test_size=test_ratio/(test_ratio + validation_ratio), stratify = y_test, random_state = RANDOM_SEED) \n",
    "\n",
    "print(f\"train = {len(X_train)} \\ntest = {len(X_test)} \\nval = {len(X_val)}\")\n"
   ]
  },
  {
   "cell_type": "code",
   "execution_count": null,
   "id": "648b1ca2",
   "metadata": {},
   "outputs": [],
   "source": [
    "# Construção do modelo no Keras\n",
    "\n",
    "model = keras.Sequential([\n",
    "    layers.Input((16,16,1)),\n",
    "    layers.Conv2D(32, (3,3), activation=\"relu\", padding=\"same\"),\n",
    "    layers.MaxPooling2D((2,2)),\n",
    "    layers.Conv2D(64, (3,3), activation=\"relu\", padding=\"same\"),\n",
    "    layers.MaxPooling2D((2,2)),\n",
    "    layers.Conv2D(128, (3,3), activation=\"relu\", padding=\"same\"),\n",
    "    layers.GlobalAveragePooling2D(),\n",
    "    layers.Dense(64, activation=\"relu\"),\n",
    "    layers.Dropout(0.2),\n",
    "    layers.Dense(2, activation=\"softmax\")\n",
    "])\n",
    "\n",
    "model.compile(optimizer=keras.optimizers.Adam(1e-3),\n",
    "              loss=\"sparse_categorical_crossentropy\",\n",
    "              metrics=[\"accuracy\"])\n",
    "\n",
    "model.summary()\n"
   ]
  },
  {
   "cell_type": "code",
   "execution_count": null,
   "id": "7f60223c",
   "metadata": {},
   "outputs": [],
   "source": [
    "# treinamento da rede\n",
    "# verbose = 0, 1 ou 2 indica a quantidade de print\n",
    "# aqui são usadas duas estratégias de saída\n",
    "\n",
    "early_stop = keras.callbacks.EarlyStopping(patience=8, restore_best_weights=True, monitor=\"val_loss\")\n",
    "reduce_lr = keras.callbacks.ReduceLROnPlateau(factor=0.5, patience=4, verbose=1, monitor=\"val_loss\")\n",
    "\n",
    "history = model.fit(\n",
    "    X_train, y_train,\n",
    "    validation_data=(X_val, y_val),\n",
    "    epochs=40,\n",
    "    batch_size=128,\n",
    "    callbacks=[early_stop, reduce_lr],\n",
    "    verbose=1\n",
    ")\n"
   ]
  },
  {
   "cell_type": "code",
   "execution_count": null,
   "id": "1fa4c85c",
   "metadata": {},
   "outputs": [],
   "source": [
    "# faz figura da perda e da acurácia para cada época\n",
    "\n",
    "plt.figure(figsize=(10,4))\n",
    "plt.subplot(1,2,1)\n",
    "plt.plot(history.history['loss'], label='train')\n",
    "plt.plot(history.history['val_loss'], label='val')\n",
    "plt.title('Perda')\n",
    "plt.legend()\n",
    "\n",
    "plt.subplot(1,2,2)\n",
    "plt.plot(history.history['accuracy'], label='train')\n",
    "plt.plot(history.history['val_accuracy'], label='val')\n",
    "plt.title('Acurácia')\n",
    "plt.legend()\n",
    "plt.show()\n"
   ]
  },
  {
   "cell_type": "code",
   "execution_count": null,
   "id": "16193b7b",
   "metadata": {},
   "outputs": [],
   "source": [
    "# Avaliar o dataset de teste\n",
    "# obtém a matriz de confusão\n",
    "\n",
    "test_loss, test_acc = model.evaluate(X_test, y_test, verbose=0)\n",
    "print(f\"Acurácia no teste: {test_acc:.4f}\")\n",
    "\n",
    "y_pred = np.argmax(model.predict(X_test), axis=1)\n",
    "print(classification_report(y_test, y_pred, target_names=[labels_map[0], labels_map[1]]))\n",
    "\n",
    "cm = confusion_matrix(y_test, y_pred)\n",
    "plt.figure(figsize=(6,5))\n",
    "sns.heatmap(cm, annot=True, fmt='d', xticklabels=[labels_map[0], labels_map[1]], yticklabels=[labels_map[0], labels_map[1]], cmap='Blues')\n",
    "plt.xlabel('Predito')\n",
    "plt.ylabel('Verdadeiro')\n",
    "plt.title('Matriz de Confusão')\n",
    "plt.show()\n"
   ]
  },
  {
   "cell_type": "code",
   "execution_count": null,
   "id": "e7be72b3",
   "metadata": {},
   "outputs": [],
   "source": [
    "# Fazer predições e printar o resultado\n",
    "\n",
    "n_show = 8\n",
    "idxs = np.random.choice(len(X_test), size=n_show, replace=False)\n",
    "fig, axes = plt.subplots(2, n_show//2, figsize=(12, 5))\n",
    "for k, ax in enumerate(axes.flat):\n",
    "    i = idxs[k]\n",
    "    img = X_test[i,...,0] * 2.0 - 1.0  # voltar para escala (-1,1) só para visualização\n",
    "    pred = y_pred[i]\n",
    "    true = y_test[i]\n",
    "    ax.imshow(img, cmap=\"coolwarm\", interpolation=\"nearest\")\n",
    "    ax.set_title(f\"P:{labels_map[int(pred)].split()[0]} / T:{labels_map[int(true)].split()[0]}\", fontsize = 8)\n",
    "    ax.axis(\"off\")\n",
    "plt.suptitle(\"Amostras de teste com Predição (P) e Verdadeiro (T)\")\n",
    "plt.show()\n"
   ]
  },
  {
   "cell_type": "code",
   "execution_count": null,
   "id": "fb902dd7",
   "metadata": {},
   "outputs": [],
   "source": [
    "# salva o modelo para uso futuro em novos dados. Dai não precisa treinar a rede novamente\n",
    "\n",
    "model.save(\"ising_cnn_keras.keras\")\n",
    "print(\"Modelo salvo como ising_cnn_keras.keras\")\n"
   ]
  }
 ],
 "metadata": {
  "kernelspec": {
   "display_name": "Python 3 (ipykernel)",
   "language": "python",
   "name": "python3"
  },
  "language_info": {
   "codemirror_mode": {
    "name": "ipython",
    "version": 3
   },
   "file_extension": ".py",
   "mimetype": "text/x-python",
   "name": "python",
   "nbconvert_exporter": "python",
   "pygments_lexer": "ipython3",
   "version": "3.13.3"
  }
 },
 "nbformat": 4,
 "nbformat_minor": 5
}
