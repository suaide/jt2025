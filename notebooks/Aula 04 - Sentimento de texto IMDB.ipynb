{
 "cells": [
  {
   "cell_type": "markdown",
   "id": "5a2d3b17-1101-4ebd-89b1-daf665b2cf44",
   "metadata": {},
   "source": [
    "# RNN em Física: Análise de sentimento em texto - banco de dados de review de filmes no IMDB\n",
    "\n",
    "## Alexandre Suaide"
   ]
  },
  {
   "cell_type": "code",
   "execution_count": null,
   "id": "c2708b98-5c21-4afa-af04-d6e9295a024a",
   "metadata": {},
   "outputs": [],
   "source": [
    "import pandas as pd\n",
    "import numpy as np\n",
    "import matplotlib.pyplot as plt\n",
    "\n",
    "from keras.preprocessing import text_dataset_from_directory\n",
    "from keras.models import Sequential, load_model\n",
    "from keras.layers import Dense, LSTM, Input, TextVectorization, Embedding\n",
    "from keras.optimizers import Adam\n",
    "\n",
    "from tensorflow.strings import regex_replace\n",
    "from tensorflow import convert_to_tensor\n",
    "\n",
    "from sklearn.preprocessing import MinMaxScaler"
   ]
  },
  {
   "cell_type": "markdown",
   "id": "d5acfd90-4f6a-4bfd-b760-1ca9b0e34328",
   "metadata": {},
   "source": [
    "<h3>Lê os dados dos diretório</h3>\n",
    "A estrutura do diretório deve ser, de acordo com a documentação do Keras:\n",
    "<pre>\n",
    "main_directory/\n",
    "...class_a/\n",
    "......a_text_1.txt\n",
    "......a_text_2.txt\n",
    "...class_b/\n",
    "......b_text_1.txt\n",
    "......b_text_2.txt\n",
    "</pre>\n",
    "Ver documentação <a href=\"https://www.tensorflow.org/api_docs/python/tf/keras/preprocessing/text_dataset_from_directory\"> aqui </a>"
   ]
  },
  {
   "cell_type": "code",
   "execution_count": null,
   "id": "72cd52f7-cdd9-4819-8eaa-2a3d19a50636",
   "metadata": {},
   "outputs": [],
   "source": [
    "def readData(dir):\n",
    "  data = text_dataset_from_directory(dir)\n",
    "  return data.map(\n",
    "    lambda text, label: (regex_replace(text, '<br />', ' '), label), # os arquivos possuem quebra de linha\n",
    "  )"
   ]
  },
  {
   "cell_type": "markdown",
   "id": "3bc4c0d2-8853-4296-a39a-ae3694362da1",
   "metadata": {},
   "source": [
    "Esses dados são baseados em review de filmes do site IMDB e formam um banco de dados disponível originalmente em http://ai.stanford.edu/~amaas/data/sentiment/"
   ]
  },
  {
   "cell_type": "code",
   "execution_count": null,
   "id": "31c34ee1-960c-48ec-bd59-62e660a0c130",
   "metadata": {},
   "outputs": [],
   "source": [
    "datadir = \"../data/imdb\"\n",
    "data_train = readData(datadir+\"/train\")\n",
    "data_test  = readData(datadir+\"/test\")\n",
    "\n",
    "text_train = data_train.map(lambda text, label: text)"
   ]
  },
  {
   "cell_type": "markdown",
   "id": "ffee98b5-8060-43a1-bfb6-a9e6f78af745",
   "metadata": {},
   "source": [
    "<h3>Vamos ver uns dados</h3>"
   ]
  },
  {
   "cell_type": "code",
   "execution_count": null,
   "id": "1199093c-f614-4a80-a4a8-04acf9124e80",
   "metadata": {},
   "outputs": [],
   "source": [
    "for text, label in data_train.take(4):\n",
    "    print(text.numpy()[0])\n",
    "    print(label.numpy()[0])"
   ]
  },
  {
   "cell_type": "markdown",
   "id": "3b2e8736-a8f6-4cbf-bf4d-f89e1748b429",
   "metadata": {},
   "source": [
    "<h3>Vamos criar a nossa rede</h3>"
   ]
  },
  {
   "cell_type": "code",
   "execution_count": null,
   "id": "ed0f7b4d-6a7a-46ca-bcaa-2aecca689fd9",
   "metadata": {},
   "outputs": [],
   "source": [
    "model = Sequential()\n",
    "model.add(Input(shape=(1,), dtype=\"string\"))"
   ]
  },
  {
   "cell_type": "markdown",
   "id": "f0f15086-4fce-403c-88d4-b0335db99f29",
   "metadata": {},
   "source": [
    "<h3>Vamos criar uma camada de vetores de texto.</h3>h3>\n",
    "Dois parâmetros importantes são o tamanho do vocabulário e a dimensionalidade do vetor. Antes de adicionar a camada ao modelo, precisamos adaptar essa camada ao textos que serão usados. No caso de estourar o tamanho máximo do vocabulários, novas palavras serão classificadas como \"out of vocabulary\" 00V"
   ]
  },
  {
   "cell_type": "code",
   "execution_count": null,
   "id": "a8695863-2506-40e5-878e-f06cdf135a68",
   "metadata": {},
   "outputs": [],
   "source": [
    "max_tokens = 2000  # tamanho do vocabulário\n",
    "max_dim = 300 # dimensionalidade do vetor. No fundo significa que apenas os max_dim primeiros tokens serão usados para converter um texto em números\n",
    "vector_layer = TextVectorization(max_tokens=max_tokens, output_mode=\"int\", output_sequence_length=max_dim)\n",
    "vector_layer.adapt(text_train)\n",
    "model.add(vector_layer)"
   ]
  },
  {
   "cell_type": "markdown",
   "id": "d7447b3f-961f-4864-be6c-b3b43e9ade4b",
   "metadata": {},
   "source": [
    "Vamos ver as palavras mais frequêntes no dicionário"
   ]
  },
  {
   "cell_type": "code",
   "execution_count": null,
   "id": "45ef9fe0-0bf5-4da6-8e29-fe8b43d54e8f",
   "metadata": {},
   "outputs": [],
   "source": [
    "vocabulary = vector_layer.get_vocabulary()\n",
    "n = 20\n",
    "for index in range(n):\n",
    "    print(f'{index}: {vocabulary[index]} ')"
   ]
  },
  {
   "cell_type": "markdown",
   "id": "67ad1cd4-4d41-4aec-b041-2cdae3c4353e",
   "metadata": {},
   "source": [
    "Vamos vetorizar uma frase"
   ]
  },
  {
   "cell_type": "code",
   "execution_count": null,
   "id": "df25f220-5e58-43a9-a244-b756763b94f5",
   "metadata": {},
   "outputs": [],
   "source": [
    "frase = [[\"But honestly, it doesn't even matter what the film is about.\"]]\n",
    "vetor = vector_layer(frase)\n",
    "vetor"
   ]
  },
  {
   "cell_type": "markdown",
   "id": "564f7033-7a59-40d3-9df0-a3439620b73e",
   "metadata": {},
   "source": [
    "<h3>Criar uma camada de embedding</h3> Note que o tamanho do vocabulário é max_tokens + 1 por conta do out of vocabulary"
   ]
  },
  {
   "cell_type": "code",
   "execution_count": null,
   "id": "a096e808-cbb9-4c54-9052-7db4a0c81c6f",
   "metadata": {},
   "outputs": [],
   "source": [
    "embedding_layer = Embedding(input_dim = max_tokens + 1, output_dim = 128)\n",
    "model.add(embedding_layer)"
   ]
  },
  {
   "cell_type": "markdown",
   "id": "2eb326ff-390c-4185-bcc1-c32503755323",
   "metadata": {},
   "source": [
    "Vamos passar o vetor anterior pela camada de embedding e ver o que sai"
   ]
  },
  {
   "cell_type": "code",
   "execution_count": null,
   "id": "b01ce614-1fd2-46e8-a612-5e2b7bdb3d00",
   "metadata": {},
   "outputs": [],
   "source": [
    "resultado = embedding_layer(vetor)\n",
    "resultado"
   ]
  },
  {
   "cell_type": "markdown",
   "id": "fdd2543f-415f-4670-8787-f417d61ae03a",
   "metadata": {},
   "source": [
    "<h3>Vamos adicionar as camadas restantes, sendo uma delas do tipo LSTM</h3>"
   ]
  },
  {
   "cell_type": "code",
   "execution_count": null,
   "id": "cf86138a-9eb3-4ba4-ab5c-962534c2c1cc",
   "metadata": {},
   "outputs": [],
   "source": [
    "model.add(LSTM(64))\n",
    "model.add(Dense(64, activation=\"relu\"))\n",
    "model.add(Dense(1, activation=\"sigmoid\"))"
   ]
  },
  {
   "cell_type": "code",
   "execution_count": null,
   "id": "b61dc74a-f63e-4585-8d9c-756e0541e303",
   "metadata": {},
   "outputs": [],
   "source": [
    "optimizer = Adam()"
   ]
  },
  {
   "cell_type": "code",
   "execution_count": null,
   "id": "37535a0d-97e3-439f-af75-b183d0e69544",
   "metadata": {},
   "outputs": [],
   "source": [
    "model.compile(optimizer=optimizer, loss='binary_crossentropy',  metrics=['accuracy'])"
   ]
  },
  {
   "cell_type": "code",
   "execution_count": null,
   "id": "6cfbd1df-d09d-4636-9315-193b7b6f26cb",
   "metadata": {},
   "outputs": [],
   "source": [
    "model.fit(data_train, validation_data = data_test, epochs = 10)"
   ]
  },
  {
   "cell_type": "markdown",
   "id": "a819a886-4152-46c6-b5fb-c6ccd9f7b9c5",
   "metadata": {},
   "source": [
    "<h3>Vamos ver como a camada de embedding ficou depois de ser treinada</h3>"
   ]
  },
  {
   "cell_type": "code",
   "execution_count": null,
   "id": "efb25be4-979f-465b-bddc-d6351a8fd1e4",
   "metadata": {},
   "outputs": [],
   "source": [
    "resultado = embedding_layer(vetor)\n",
    "resultado"
   ]
  },
  {
   "cell_type": "markdown",
   "id": "93f6e171-5eb0-4e1f-8568-0d482c98709d",
   "metadata": {},
   "source": [
    "<h3>Salvando o modelo</h3>\n",
    "Treinar um modelo de linguagem leva tempo e custa CPU/GPU. Normalmente você não faz isso o tempo todo. Você treina o seu modelo e salva as saídas. Vamos fazer isso e depois usar esse treinamento em uma outra rede"
   ]
  },
  {
   "cell_type": "code",
   "execution_count": null,
   "id": "fa080f11-6738-4357-8a65-bfbc35306987",
   "metadata": {},
   "outputs": [],
   "source": [
    "file = 'meu_modelo.keras'\n",
    "model.save(file)"
   ]
  },
  {
   "cell_type": "markdown",
   "id": "1b238c64-d5ba-41de-b6fb-b013e3699d79",
   "metadata": {},
   "source": [
    "<h3>Vamos criar um novo modelo e carregar esse treinamento para usar</h3>"
   ]
  },
  {
   "cell_type": "code",
   "execution_count": null,
   "id": "8b3d1634-4125-4a5c-8614-854503c24406",
   "metadata": {},
   "outputs": [],
   "source": [
    "uso = load_model(file)"
   ]
  },
  {
   "cell_type": "code",
   "execution_count": null,
   "id": "80903427-4aa2-429f-8874-3676ec66379e",
   "metadata": {},
   "outputs": [],
   "source": [
    "meu_review = [\"\"\"I had already watched this movie, but I remembered almost nothing, including that several interesting actors are part of it. \n",
    "The opening scene is intensely gory and very interesting, with crude visual effects worthy of 2002, but very pleasing to the eyes of fans of B movies from the 90s/00s. \n",
    "Without a doubt, it is a film worth watching and rewatching, especially if the viewer enjoys supernatural exploitation films.\n",
    "\"\"\"]"
   ]
  },
  {
   "cell_type": "code",
   "execution_count": null,
   "id": "65701637-7089-4617-a6a1-04fa00cd65ad",
   "metadata": {},
   "outputs": [],
   "source": [
    "print(uso.predict(convert_to_tensor(meu_review)))"
   ]
  },
  {
   "cell_type": "code",
   "execution_count": null,
   "id": "fc9170b0-d367-47b2-9edb-90f2c3fc7ae9",
   "metadata": {},
   "outputs": [],
   "source": [
    "meu_review = [\"\"\"It has no plot, no comedy, no drama, no passion. You basically waste 2 hours of your time watching these characters you just can't seem to get attached to... \n",
    "Watch it only if you're interested in watching all these actors as they were before they got famous, or if you feel REALLY nostalgic about the '80s.\n",
    "\"\"\"]"
   ]
  },
  {
   "cell_type": "code",
   "execution_count": null,
   "id": "c0bcd930-39b2-4745-bbee-d8f0e5167cc2",
   "metadata": {},
   "outputs": [],
   "source": [
    "print(uso.predict(convert_to_tensor(meu_review)))"
   ]
  },
  {
   "cell_type": "code",
   "execution_count": null,
   "id": "748d3a96-a672-4968-9273-8031576b2266",
   "metadata": {},
   "outputs": [],
   "source": [
    "meu_review = [\"\"\"I usually steer toward Sci-Fi and Fantasy movies, but after watching the The Breakfast Club, I thought I may enjoy seeing actors and actresses like Judd Nelson, and Ally Sheedy working together again. \n",
    "Well, I was right. Some movies can make you feel different emotions by being tearful, or violent. St.Elmo's Fire made me cry- not because of the actual plot, but the way it truly played to real life. \n",
    "The aspects of this movie letf wishing to see what would happen next, after the character's old lives were left behind.\"\"\"]"
   ]
  },
  {
   "cell_type": "code",
   "execution_count": null,
   "id": "855f1e60-2f10-431d-9970-26d8ebe1def6",
   "metadata": {},
   "outputs": [],
   "source": [
    "print(uso.predict(convert_to_tensor(meu_review)))"
   ]
  },
  {
   "cell_type": "code",
   "execution_count": null,
   "id": "b4e84dde-ff13-42bd-8779-eb34cbe7b036",
   "metadata": {},
   "outputs": [],
   "source": []
  },
  {
   "cell_type": "code",
   "execution_count": null,
   "id": "d4737742-74dc-4db6-8a55-4d9f6a00f1c5",
   "metadata": {},
   "outputs": [],
   "source": []
  }
 ],
 "metadata": {
  "kernelspec": {
   "display_name": "Python 3 (ipykernel)",
   "language": "python",
   "name": "python3"
  },
  "language_info": {
   "codemirror_mode": {
    "name": "ipython",
    "version": 3
   },
   "file_extension": ".py",
   "mimetype": "text/x-python",
   "name": "python",
   "nbconvert_exporter": "python",
   "pygments_lexer": "ipython3",
   "version": "3.13.3"
  }
 },
 "nbformat": 4,
 "nbformat_minor": 5
}
