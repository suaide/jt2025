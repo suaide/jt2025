{
 "cells": [
  {
   "cell_type": "markdown",
   "id": "bfa61f63-e617-4416-b95d-62a5ce352c64",
   "metadata": {},
   "source": [
    "\n",
    "# RNN em Física: Séries temporais (manchas solares) usando RNN\n",
    "## Alexandre Suaide"
   ]
  },
  {
   "cell_type": "code",
   "execution_count": null,
   "id": "2e74613a-fafe-465e-bf7f-c4b7fca89faf",
   "metadata": {},
   "outputs": [],
   "source": [
    "import pandas as pd\n",
    "import numpy as np\n",
    "import matplotlib.pyplot as plt\n",
    "\n",
    "from keras.models import Sequential\n",
    "from keras.layers import Dense, SimpleRNN, Input\n",
    "from keras.optimizers import Adam\n",
    "\n",
    "from sklearn.preprocessing import MinMaxScaler\n"
   ]
  },
  {
   "cell_type": "code",
   "execution_count": null,
   "id": "9644330d-2269-40fc-a6e4-f0c010355238",
   "metadata": {},
   "outputs": [],
   "source": [
    "# Funções necessárias\n",
    "\n",
    "def get_XY(data, time_steps):\n",
    "    Y_ind = np.arange(time_steps, len(data), time_steps)\n",
    "    Y = data[Y_ind]\n",
    "    rows_x = len(Y)\n",
    "    X = data[range(time_steps*rows_x)]\n",
    "    X = np.reshape(X, (rows_x, time_steps, 1))    \n",
    "    return X, Y"
   ]
  },
  {
   "cell_type": "code",
   "execution_count": null,
   "id": "a1776987-0894-4395-8847-cbddcd26068f",
   "metadata": {},
   "outputs": [],
   "source": [
    "# Carrega o dataset\n",
    "\n",
    "df = pd.read_csv(\"../data/manchas-solares.csv\")\n",
    "df.head()"
   ]
  },
  {
   "cell_type": "code",
   "execution_count": null,
   "id": "2fcfb103-7ecb-4858-9ca5-378ab1b986e3",
   "metadata": {},
   "outputs": [],
   "source": [
    "# Converte em uma sequência\n",
    "\n",
    "data = np.array(df['Sunspots'].values.astype('float32')).reshape(-1, 1)\n",
    "data"
   ]
  },
  {
   "cell_type": "code",
   "execution_count": null,
   "id": "56c43837-5afd-4173-8d0c-6024600567dc",
   "metadata": {},
   "outputs": [],
   "source": [
    "# Escalona os dados entre 0 e 1\n",
    "\n",
    "scaler = MinMaxScaler(feature_range=(0, 1))\n",
    "data = scaler.fit_transform(data)\n",
    "data.shape"
   ]
  },
  {
   "cell_type": "code",
   "execution_count": null,
   "id": "ec6459d3-adc5-4991-9a1f-ab3348c923ec",
   "metadata": {},
   "outputs": [],
   "source": [
    "# Divide a sequência entre treino e predição\n",
    "\n",
    "fraction = 0.6\n",
    "n = len(data)\n",
    "split = int(fraction * n) # 80% train, 20% test\n",
    "train = data[range(split)]\n",
    "test = data[split:]"
   ]
  },
  {
   "cell_type": "code",
   "execution_count": null,
   "id": "ba10aa75-06a5-448b-8204-d375ab092e4c",
   "metadata": {},
   "outputs": [],
   "source": [
    "train.shape"
   ]
  },
  {
   "cell_type": "code",
   "execution_count": null,
   "id": "37ae0ffd-22ed-429b-bb45-df75a38b72ee",
   "metadata": {},
   "outputs": [],
   "source": [
    "test.shape"
   ]
  },
  {
   "cell_type": "code",
   "execution_count": null,
   "id": "f0987670-b51f-4ef5-bffd-666b24fe2d66",
   "metadata": {},
   "outputs": [],
   "source": [
    "# Divide a sequência em subconjuntos de steps\n",
    "\n",
    "steps = 12\n",
    "train_x, train_y = get_XY(train,steps)\n",
    "test_x, test_y = get_XY(test,steps)\n"
   ]
  },
  {
   "cell_type": "code",
   "execution_count": null,
   "id": "c486c75f-e96c-463f-bc56-153677111d36",
   "metadata": {},
   "outputs": [],
   "source": [
    "# Construção do modelo no Keras\n",
    "\n",
    "model = Sequential()\n",
    "model.add(Input(shape=train.shape))\n",
    "model.add(SimpleRNN(units = 3, activation = 'tanh'))\n",
    "model.add(Dense(units = 1, activation = 'tanh'))\n",
    "        \n",
    "optimizer = Adam()\n",
    "\n",
    "model.compile(optimizer = optimizer , loss = \"MSE\", metrics=[\"accuracy\"])\n",
    "model.summary()"
   ]
  },
  {
   "cell_type": "code",
   "execution_count": null,
   "id": "5dae8ac6-6ad1-4f46-82c7-d846fc3d47e9",
   "metadata": {},
   "outputs": [],
   "source": [
    "# Treina a rede\n",
    "\n",
    "epochs = 30\n",
    "batch_size = 1\n",
    "history = model.fit(train_x, train_y, epochs = epochs, batch_size = batch_size)"
   ]
  },
  {
   "cell_type": "code",
   "execution_count": null,
   "id": "0bfae3c1-1362-428e-bb64-be81c0fd3842",
   "metadata": {},
   "outputs": [],
   "source": [
    "# faz figura da perda e da acurácia para cada época\n",
    "\n",
    "plt.figure(figsize=(10,4))\n",
    "plt.subplot(1,2,1)\n",
    "plt.plot(history.history['loss'], label='treino')\n",
    "plt.title('Perda')\n",
    "plt.legend()\n",
    "\n",
    "plt.subplot(1,2,2)\n",
    "plt.plot(history.history['accuracy'], label='treino')\n",
    "plt.title('Acurácia')\n",
    "plt.legend()\n",
    "plt.show()"
   ]
  },
  {
   "cell_type": "code",
   "execution_count": null,
   "id": "fc5c6394-f436-466f-be57-6fbbab23d7e7",
   "metadata": {},
   "outputs": [],
   "source": [
    "# Realiza as previsões, tanto para o período de treino quando para o período de teste\n",
    "\n",
    "train_predict = model.predict(train_x)\n",
    "test_predict = model.predict(test_x)"
   ]
  },
  {
   "cell_type": "code",
   "execution_count": null,
   "id": "c010002a-e3e9-44fe-accc-3e396c1a1455",
   "metadata": {},
   "outputs": [],
   "source": [
    "full_y = np.append(train_y, test_y)\n",
    "full_p = np.append(train_predict, test_predict)"
   ]
  },
  {
   "cell_type": "code",
   "execution_count": null,
   "id": "c5261874-0f8c-4bc8-b741-214f505b5af9",
   "metadata": {},
   "outputs": [],
   "source": [
    "# Faz a figura\n",
    "\n",
    "plt.figure()\n",
    "plt.plot(full_y)\n",
    "plt.plot(full_p)\n",
    "plt.axvline(x=len(train_y), color='r')\n",
    "plt.legend(['Dados', 'Predições'])"
   ]
  },
  {
   "cell_type": "code",
   "execution_count": null,
   "id": "946d6ee1-4a2d-4126-b23e-65bacf56446e",
   "metadata": {},
   "outputs": [],
   "source": [
    "# salva o modelo para uso futuro em novos dados. Dai não precisa treinar a rede novamente\n",
    "\n",
    "model.save(\"manchas_solares.keras\")\n",
    "print(\"Modelo gravado como manchas_solares.keras\")"
   ]
  },
  {
   "cell_type": "code",
   "execution_count": null,
   "id": "3bcd172e-68a5-40ba-9ef1-a104f399e212",
   "metadata": {},
   "outputs": [],
   "source": []
  }
 ],
 "metadata": {
  "kernelspec": {
   "display_name": "Python 3 (ipykernel)",
   "language": "python",
   "name": "python3"
  },
  "language_info": {
   "codemirror_mode": {
    "name": "ipython",
    "version": 3
   },
   "file_extension": ".py",
   "mimetype": "text/x-python",
   "name": "python",
   "nbconvert_exporter": "python",
   "pygments_lexer": "ipython3",
   "version": "3.13.3"
  }
 },
 "nbformat": 4,
 "nbformat_minor": 5
}
